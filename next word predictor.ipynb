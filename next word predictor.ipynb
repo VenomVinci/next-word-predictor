{
 "cells": [
  {
   "cell_type": "code",
   "execution_count": 43,
   "id": "30366e7f-8de2-4996-a54c-6bca2e6db06f",
   "metadata": {},
   "outputs": [
    {
     "name": "stdout",
     "output_type": "stream",
     "text": [
      "Using device: mps\n"
     ]
    }
   ],
   "source": [
    "# Imports and Device Setup\n",
    "\n",
    "import torch\n",
    "import torch.nn as nn\n",
    "from torch.utils.data import Dataset, DataLoader\n",
    "import pandas as pd\n",
    "import numpy as np\n",
    "import kagglehub\n",
    "import os\n",
    "from collections import Counter\n",
    "import re\n",
    "\n",
    "device = torch.device(\"mps\") if torch.backends.mps.is_available() else torch.device(\"cpu\")\n",
    "print(\"Using device:\", device)"
   ]
  },
  {
   "cell_type": "code",
   "execution_count": 44,
   "id": "15638021-ba2b-428a-9b8f-ced9152b26c5",
   "metadata": {},
   "outputs": [
    {
     "name": "stdout",
     "output_type": "stream",
     "text": [
      "Dataset folder: /Users/ma/.cache/kagglehub/datasets/muhammadbilalhaneef/sherlock-holmes-next-word-prediction-corpus/versions/1\n",
      "                                                text\n",
      "0                                                 \\n\n",
      "1                                                 \\n\n",
      "2                                                 \\n\n",
      "3                                                 \\n\n",
      "4                          THE ADVENTURES OF SHER...\n"
     ]
    }
   ],
   "source": [
    "# Download and load the Sherlock Holmes dataset into a DataFrame\n",
    "\n",
    "path = kagglehub.dataset_download(\"muhammadbilalhaneef/sherlock-holmes-next-word-prediction-corpus\")\n",
    "print(\"Dataset folder:\", path)\n",
    "\n",
    "file_path = os.path.join(path, \"Sherlock Holmes.txt\")  # correct filename\n",
    "with open(file_path, \"r\", encoding=\"utf-8\") as f:\n",
    "    lines = f.readlines()\n",
    "\n",
    "df = pd.DataFrame(lines, columns=[\"text\"])\n",
    "print(df.head())"
   ]
  },
  {
   "cell_type": "code",
   "execution_count": 45,
   "id": "6f797732-a6aa-4f52-b374-ce599e12f58a",
   "metadata": {},
   "outputs": [
    {
     "name": "stdout",
     "output_type": "stream",
     "text": [
      "Vocab size: 7901\n"
     ]
    }
   ],
   "source": [
    "# Tokenize text and create word-to-index mapping\n",
    "text = \" \".join(df['text'].tolist()).lower()\n",
    "words = re.findall(r'\\b\\w+\\b', text)\n",
    "word_counts = Counter(words)\n",
    "vocab = sorted(word_counts, key=word_counts.get, reverse=True)\n",
    "word2idx = {w:i for i, w in enumerate(vocab)}\n",
    "idx2word = {i:w for w,i in word2idx.items()}\n",
    "print(\"Vocab size:\", len(vocab))"
   ]
  },
  {
   "cell_type": "code",
   "execution_count": 46,
   "id": "f7250f93-077b-410d-98fd-18279a691d9c",
   "metadata": {},
   "outputs": [
    {
     "name": "stdout",
     "output_type": "stream",
     "text": [
      "Number of sequences: 106022\n"
     ]
    }
   ],
   "source": [
    "# Prepare sequences of fixed length for next-word prediction\n",
    "seq_length = 10\n",
    "word_indices = [word2idx[w] for w in words]\n",
    "X, y = [], []\n",
    "for i in range(len(word_indices) - seq_length):\n",
    "    X.append(word_indices[i:i+seq_length])\n",
    "    y.append(word_indices[i+seq_length])\n",
    "X = torch.tensor(X, dtype=torch.long)\n",
    "y = torch.tensor(y, dtype=torch.long)\n",
    "print(\"Number of sequences:\", len(X))"
   ]
  },
  {
   "cell_type": "code",
   "execution_count": 47,
   "id": "ad651cd7-add0-4f65-b739-aefb13d734c8",
   "metadata": {},
   "outputs": [],
   "source": [
    "# Wrap sequences into a PyTorch Dataset and DataLoader\n",
    "class WordDataset(Dataset):\n",
    "    def __init__(self, X, y):\n",
    "        self.X = X\n",
    "        self.y = y\n",
    "    def __len__(self):\n",
    "        return len(self.X)\n",
    "    def __getitem__(self, idx):\n",
    "        return self.X[idx], self.y[idx]\n",
    "dataset = WordDataset(X, y)\n",
    "loader = DataLoader(dataset, batch_size=64, shuffle=True)"
   ]
  },
  {
   "cell_type": "code",
   "execution_count": 48,
   "id": "53365b8a-8df4-499b-9e53-18f8870aa125",
   "metadata": {},
   "outputs": [],
   "source": [
    "# Define LSTM model for next-word prediction\n",
    "class LSTMModel(nn.Module):\n",
    "    def __init__(self, vocab_size, embed_size, hidden_size, num_layers):\n",
    "        super(LSTMModel, self).__init__()\n",
    "        self.embedding = nn.Embedding(vocab_size, embed_size)\n",
    "        self.lstm = nn.LSTM(embed_size, hidden_size, num_layers, batch_first=True)\n",
    "        self.fc = nn.Linear(hidden_size, vocab_size)\n",
    "    def forward(self, x, hidden=None):\n",
    "        x = self.embedding(x)\n",
    "        out, hidden = self.lstm(x, hidden)\n",
    "        out = self.fc(out[:, -1, :])\n",
    "        return out, hidden\n",
    "vocab_size = len(vocab)\n",
    "embed_size = 256\n",
    "hidden_size = 512\n",
    "num_layers = 3\n",
    "model = LSTMModel(vocab_size, embed_size, hidden_size, num_layers).to(device)"
   ]
  },
  {
   "cell_type": "code",
   "execution_count": 49,
   "id": "419790fe-2fa7-4537-b327-3077fc8ed65b",
   "metadata": {},
   "outputs": [],
   "source": [
    "# Define loss function and optimizer\n",
    "criterion = nn.CrossEntropyLoss()\n",
    "optimizer = torch.optim.Adam(model.parameters(), lr=0.001)\n",
    "epochs = 50"
   ]
  },
  {
   "cell_type": "code",
   "execution_count": 50,
   "id": "39b2771e-9a21-49e2-a395-211e51376a6a",
   "metadata": {},
   "outputs": [
    {
     "name": "stdout",
     "output_type": "stream",
     "text": [
      "Epoch 1/50, Loss: 6.6210\n",
      "Epoch 2/50, Loss: 6.4593\n",
      "Epoch 3/50, Loss: 5.8445\n",
      "Epoch 4/50, Loss: 5.4085\n",
      "Epoch 5/50, Loss: 5.0538\n",
      "Epoch 6/50, Loss: 4.6996\n",
      "Epoch 7/50, Loss: 4.3029\n",
      "Epoch 8/50, Loss: 3.8491\n",
      "Epoch 9/50, Loss: 3.3550\n",
      "Epoch 10/50, Loss: 2.8456\n",
      "Epoch 11/50, Loss: 2.3545\n",
      "Epoch 12/50, Loss: 1.9008\n",
      "Epoch 13/50, Loss: 1.5013\n",
      "Epoch 14/50, Loss: 1.1523\n",
      "Epoch 15/50, Loss: 0.8635\n",
      "Epoch 16/50, Loss: 0.6390\n",
      "Epoch 17/50, Loss: 0.4805\n",
      "Epoch 18/50, Loss: 0.3709\n",
      "Epoch 19/50, Loss: 0.3220\n",
      "Epoch 20/50, Loss: 0.2709\n",
      "Epoch 21/50, Loss: 0.2483\n",
      "Epoch 22/50, Loss: 0.2341\n",
      "Epoch 23/50, Loss: 0.2202\n",
      "Epoch 24/50, Loss: 0.2109\n",
      "Epoch 25/50, Loss: 0.1998\n",
      "Epoch 26/50, Loss: 0.1997\n",
      "Epoch 27/50, Loss: 0.1876\n",
      "Epoch 28/50, Loss: 0.1877\n",
      "Epoch 29/50, Loss: 0.1806\n",
      "Epoch 30/50, Loss: 0.1872\n",
      "Epoch 31/50, Loss: 0.1673\n",
      "Epoch 32/50, Loss: 0.1668\n",
      "Epoch 33/50, Loss: 0.1868\n",
      "Epoch 34/50, Loss: 0.1735\n",
      "Epoch 35/50, Loss: 0.1605\n",
      "Epoch 36/50, Loss: 0.1698\n",
      "Epoch 37/50, Loss: 0.1638\n",
      "Epoch 38/50, Loss: 0.1643\n",
      "Epoch 39/50, Loss: 0.1554\n",
      "Epoch 40/50, Loss: 0.1659\n",
      "Epoch 41/50, Loss: 0.1615\n",
      "Epoch 42/50, Loss: 0.1538\n",
      "Epoch 43/50, Loss: 0.1617\n",
      "Epoch 44/50, Loss: 0.1609\n",
      "Epoch 45/50, Loss: 0.1632\n",
      "Epoch 46/50, Loss: 0.1532\n",
      "Epoch 47/50, Loss: 0.1534\n",
      "Epoch 48/50, Loss: 0.1421\n",
      "Epoch 49/50, Loss: 0.1498\n",
      "Epoch 50/50, Loss: 0.1545\n"
     ]
    }
   ],
   "source": [
    "# Train the LSTM model\n",
    "for epoch in range(epochs):\n",
    "    total_loss = 0\n",
    "    for inputs, targets in loader:\n",
    "        inputs, targets = inputs.to(device), targets.to(device)\n",
    "        optimizer.zero_grad()\n",
    "        outputs, _ = model(inputs)\n",
    "        loss = criterion(outputs, targets)\n",
    "        loss.backward()\n",
    "        optimizer.step()\n",
    "        total_loss += loss.item()\n",
    "    print(f\"Epoch {epoch+1}/{epochs}, Loss: {total_loss/len(loader):.4f}\")"
   ]
  },
  {
   "cell_type": "code",
   "execution_count": null,
   "id": "ae125c71-c0da-47cc-9e0c-e979d678137d",
   "metadata": {},
   "outputs": [],
   "source": [
    "# Generate text using the trained model\n",
    "def predict_next(model, seed_text, next_words=10):\n",
    "    model.eval()\n",
    "    words = seed_text.lower().split()\n",
    "    for _ in range(next_words):\n",
    "        seq = [word2idx.get(w,0) for w in words[-seq_length:]]\n",
    "        seq = torch.tensor(seq, dtype=torch.long).unsqueeze(0).to(device)\n",
    "        with torch.no_grad():\n",
    "            output, _ = model(seq)\n",
    "            pred_idx = torch.argmax(output, dim=1).item()\n",
    "            words.append(idx2word[pred_idx])\n",
    "    return \" \".join(words)\n",
    "\n",
    "print(predict_next(model, \"sherlock holmes said\", next_words=10))"
   ]
  },
  {
   "cell_type": "code",
   "execution_count": null,
   "id": "9e3ba8bd-2722-44ee-aa36-92ac7116733e",
   "metadata": {},
   "outputs": [],
   "source": []
  },
  {
   "cell_type": "code",
   "execution_count": null,
   "id": "ae8da49c-ae4a-48b8-a157-11d9bad0b534",
   "metadata": {},
   "outputs": [],
   "source": []
  },
  {
   "cell_type": "code",
   "execution_count": null,
   "id": "f64089c5-5532-446b-8bee-baad4ada2c1e",
   "metadata": {},
   "outputs": [],
   "source": []
  }
 ],
 "metadata": {
  "kernelspec": {
   "display_name": "Python 3 (ipykernel)",
   "language": "python",
   "name": "python3"
  },
  "language_info": {
   "codemirror_mode": {
    "name": "ipython",
    "version": 3
   },
   "file_extension": ".py",
   "mimetype": "text/x-python",
   "name": "python",
   "nbconvert_exporter": "python",
   "pygments_lexer": "ipython3",
   "version": "3.11.8"
  }
 },
 "nbformat": 4,
 "nbformat_minor": 5
}
